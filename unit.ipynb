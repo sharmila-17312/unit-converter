{
  "nbformat": 4,
  "nbformat_minor": 0,
  "metadata": {
    "colab": {
      "provenance": []
    },
    "kernelspec": {
      "name": "python3",
      "display_name": "Python 3"
    },
    "language_info": {
      "name": "python"
    }
  },
  "cells": [
    {
      "cell_type": "code",
      "source": [
        "# Unit Converter\n",
        "\n",
        "def convert_length(value, unit_from, unit_to):\n",
        "    units = {'meters': 1.0, 'kilometers': 0.001, 'centimeters': 100.0, 'millimeters': 1000.0}\n",
        "    return value * (units[unit_to] / units[unit_from])\n",
        "\n",
        "def convert_weight(value, unit_from, unit_to):\n",
        "    units = {'grams': 1.0, 'kilograms': 0.001, 'pounds': 0.00220462}\n",
        "    return value * (units[unit_to] / units[unit_from])\n",
        "\n",
        "def main():\n",
        "    print(\"Welcome to Unit Converter!\")\n",
        "\n",
        "    while True:\n",
        "        print(\"\\nChoose a conversion type:\")\n",
        "        print(\"1. Length\")\n",
        "        print(\"2. Weight\")\n",
        "        print(\"3. Exit\")\n",
        "\n",
        "        choice = input(\"Enter your choice: \")\n",
        "\n",
        "        if choice == '1':\n",
        "            value = float(input(\"Enter value: \"))\n",
        "            unit_from = input(\"Enter from unit (meters, kilometers, centimeters, millimeters): \").lower()\n",
        "            unit_to = input(\"Enter to unit (meters, kilometers, centimeters, millimeters): \").lower()\n",
        "            if unit_from in ['meters', 'kilometers', 'centimeters', 'millimeters'] \\\n",
        "                    and unit_to in ['meters', 'kilometers', 'centimeters', 'millimeters']:\n",
        "                converted_value = convert_length(value, unit_from, unit_to)\n",
        "                print(f\"{value} {unit_from} is equal to {converted_value:.2f} {unit_to}\")\n",
        "            else:\n",
        "                print(\"Invalid units. Please try again.\")\n",
        "\n",
        "        elif choice == '2':\n",
        "            value = float(input(\"Enter value: \"))\n",
        "            unit_from = input(\"Enter from unit (grams, kilograms, pounds): \").lower()\n",
        "            unit_to = input(\"Enter to unit (grams, kilograms, pounds): \").lower()\n",
        "            if unit_from in ['grams', 'kilograms', 'pounds'] and unit_to in ['grams', 'kilograms', 'pounds']:\n",
        "                converted_value = convert_weight(value, unit_from, unit_to)\n",
        "                print(f\"{value} {unit_from} is equal to {converted_value:.2f} {unit_to}\")\n",
        "            else:\n",
        "                print(\"Invalid units. Please try again.\")\n",
        "\n",
        "        elif choice == '3':\n",
        "            print(\"Exiting the application.\")\n",
        "            break\n",
        "        else:\n",
        "            print(\"Invalid choice. Please try again.\")\n",
        "\n",
        "if __name__ == \"__main__\":\n",
        "    main()"
      ],
      "metadata": {
        "colab": {
          "base_uri": "https://localhost:8080/"
        },
        "id": "NnvtS64gte_3",
        "outputId": "f0bf0d51-f772-4d85-ddaf-fc91621dd87a"
      },
      "execution_count": 8,
      "outputs": [
        {
          "output_type": "stream",
          "name": "stdout",
          "text": [
            "Welcome to Unit Converter!\n",
            "\n",
            "Choose a conversion type:\n",
            "1. Length\n",
            "2. Weight\n",
            "3. Exit\n",
            "Enter your choice: 1\n",
            "Enter value: 15\n",
            "Enter from unit (meters, kilometers, centimeters, millimeters): kilometers\n",
            "Enter to unit (meters, kilometers, centimeters, millimeters): centimeters\n",
            "15.0 kilometers is equal to 1500000.00 centimeters\n",
            "\n",
            "Choose a conversion type:\n",
            "1. Length\n",
            "2. Weight\n",
            "3. Exit\n",
            "Enter your choice: 2\n",
            "Enter value: 34\n",
            "Enter from unit (grams, kilograms, pounds): pounds\n",
            "Enter to unit (grams, kilograms, pounds): kilograms\n",
            "34.0 pounds is equal to 15.42 kilograms\n",
            "\n",
            "Choose a conversion type:\n",
            "1. Length\n",
            "2. Weight\n",
            "3. Exit\n",
            "Enter your choice: 3\n",
            "Exiting the application.\n"
          ]
        }
      ]
    }
  ]
}